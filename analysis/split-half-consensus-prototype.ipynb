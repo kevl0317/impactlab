{
 "cells": [
  {
   "cell_type": "code",
   "execution_count": 134,
   "metadata": {},
   "outputs": [],
   "source": [
    "import pandas as pd\n",
    "# import cupy as cp\n",
    "import numpy as np\n",
    "import time"
   ]
  },
  {
   "cell_type": "code",
   "execution_count": 135,
   "metadata": {},
   "outputs": [],
   "source": [
    "def pearsonr(half1, half2):\n",
    "    numerator = np.sum((half1 - half1.mean()) * (half2 - half2.mean()))\n",
    "    denominator = np.sqrt(np.sum((half1 - half1.mean())**2) * np.sum((half2 - half2.mean())**2))\n",
    "    corr = numerator / denominator\n",
    "    return corr"
   ]
  },
  {
   "cell_type": "code",
   "execution_count": 139,
   "metadata": {},
   "outputs": [],
   "source": [
    "# # Set seed for reproducibility\n",
    "# np.random.seed(42)\n",
    "\n",
    "# Generate fake data: 100 participants and ratings for 8 emotions (e.g., scale 1-7)\n",
    "num_participants = 100\n",
    "num_emotions = 8\n",
    "fake_data = np.random.randint(1, 8, size=(num_participants, num_emotions))"
   ]
  },
  {
   "cell_type": "code",
   "execution_count": 140,
   "metadata": {},
   "outputs": [],
   "source": [
    "# Function to calculate split-half reliability\n",
    "def split_half_reliability(data, num_iterations=1000):\n",
    "    all_correlations = []\n",
    "    \n",
    "    for _ in range(num_iterations):\n",
    "        # Randomly split data into two halves\n",
    "        indices = np.random.permutation(data.shape[0])\n",
    "        half_size = len(indices) // 2\n",
    "        half1_indices = indices[:half_size]\n",
    "        half2_indices = indices[half_size:]\n",
    "        \n",
    "        # Compute Pearson correlation for each emotion and store the results\n",
    "        correlations = []\n",
    "        for i in range(data.shape[1]):\n",
    "            half1 = data[half1_indices, i]\n",
    "            half2 = data[half2_indices, i]\n",
    "            \n",
    "            # Calculate Pearson correlation between the two halves for current emotion\n",
    "            correlation = pearsonr(half1, half2)\n",
    "            correlations.append(correlation)\n",
    "        \n",
    "        if len(all_correlations) == 0:\n",
    "            all_correlations = np.array(correlations)\n",
    "        else:\n",
    "            all_correlations = np.vstack((all_correlations, np.array(correlations)))\n",
    "\n",
    "    # Compute the average Pearson correlation across all iterations for each emotion\n",
    "    avg_pearson_correlation = np.mean(all_correlations, axis=0)\n",
    "    \n",
    "    reliabilities = []\n",
    "    for avg_emotion_corr in avg_pearson_correlation:\n",
    "        # Apply Spearman-Brown correction\n",
    "        reliability = (2 * avg_emotion_corr) / (1 + avg_emotion_corr)\n",
    "        reliabilities.append(reliability)\n",
    "    \n",
    "    return reliabilities"
   ]
  },
  {
   "cell_type": "code",
   "execution_count": 141,
   "metadata": {},
   "outputs": [
    {
     "name": "stdout",
     "output_type": "stream",
     "text": [
      "0.3421292304992676\n",
      "[0.01881706390421111, 0.000775227677495702, 0.01694811676721613, 0.004367968006722288, 0.0026885617523933216, -0.02215949663355407, 0.0006191104701670859, -0.012816092800639452]\n"
     ]
    }
   ],
   "source": [
    "np.random.seed(42)\n",
    "s = time.time()\n",
    "reliabilities = split_half_reliability(fake_data)\n",
    "print(time.time() - s)\n",
    "print(reliabilities)"
   ]
  },
  {
   "cell_type": "code",
   "execution_count": null,
   "metadata": {},
   "outputs": [],
   "source": []
  }
 ],
 "metadata": {
  "kernelspec": {
   "display_name": "base",
   "language": "python",
   "name": "python3"
  },
  "language_info": {
   "codemirror_mode": {
    "name": "ipython",
    "version": 3
   },
   "file_extension": ".py",
   "mimetype": "text/x-python",
   "name": "python",
   "nbconvert_exporter": "python",
   "pygments_lexer": "ipython3",
   "version": "3.11.5"
  }
 },
 "nbformat": 4,
 "nbformat_minor": 2
}
