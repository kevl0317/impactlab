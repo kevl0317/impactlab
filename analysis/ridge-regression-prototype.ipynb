{
 "cells": [
  {
   "cell_type": "code",
   "execution_count": 1,
   "metadata": {},
   "outputs": [],
   "source": [
    "import numpy as np\n",
    "import pandas as pd\n",
    "\n",
    "# Creating a fake dataset\n",
    "np.random.seed(42)  # For reproducibility\n",
    "\n",
    "# Parameters for the fake dataset\n",
    "num_samples = 200  # Number of samples\n",
    "num_cues = 16      # Number of cues (features)\n",
    "num_emotions = 8   # Number of emotions\n",
    "\n",
    "# Generate random feature values for X (values between 0 and 1)\n",
    "X = pd.DataFrame(np.random.rand(num_samples, num_cues), \n",
    "                      columns=[f'Cue {i+1}' for i in range(num_cues)])\n",
    "\n",
    "# Generate random emotion labels (values between 0 and 7, as there are 8 emotions)\n",
    "y = pd.Series(np.random.randint(0, num_emotions, num_samples), name='Emotion')\n"
   ]
  },
  {
   "cell_type": "code",
   "execution_count": null,
   "metadata": {},
   "outputs": [],
   "source": [
    "import numpy as np\n",
    "import pandas as pd\n",
    "from sklearn.linear_model import RidgeCV\n",
    "from sklearn.model_selection import cross_val_score\n",
    "from sklearn.utils import shuffle\n",
    "\n",
    "# Parameters\n",
    "num_emotions = 8\n",
    "num_cues = 16\n",
    "num_permutations = 1000\n",
    "alpha_values = np.logspace(-6, 6, 13)\n",
    "\n",
    "# Storing the results\n",
    "observed_accuracies = np.zeros((num_emotions, num_cues))\n",
    "p_values = np.zeros((num_emotions, num_cues))\n",
    "\n",
    "# Perform Ridge Regression for each emotion and each cue\n",
    "for emotion in range(num_emotions):\n",
    "    y_emotion = (y == emotion).astype(int)  # Binary labels for current emotion\n",
    "    \n",
    "    for cue in range(num_cues):\n",
    "        X_cue = X.iloc[:, cue].values.reshape(-1, 1)  # Extract cue as a single feature\n",
    "        \n",
    "        # Ridge regression with cross-validation\n",
    "        model = RidgeCV(alphas=alpha_values, cv=5)\n",
    "        observed_accuracy = cross_val_score(model, X_cue, y_emotion, cv=5, scoring='accuracy').mean()\n",
    "        observed_accuracies[emotion, cue] = observed_accuracy\n",
    "        \n",
    "        # Permutation test\n",
    "        permuted_accuracies = []\n",
    "        for _ in range(num_permutations):\n",
    "            y_permuted = shuffle(y_emotion)\n",
    "            perm_accuracy = cross_val_score(model, X_cue, y_permuted, cv=5, scoring='accuracy').mean()\n",
    "            permuted_accuracies.append(perm_accuracy)\n",
    "        \n",
    "        # Calculate p-value\n",
    "        permuted_accuracies = np.array(permuted_accuracies)\n",
    "        p_value = np.mean(permuted_accuracies >= observed_accuracy)\n",
    "        p_values[emotion, cue] = p_value\n",
    "\n",
    "# Apply multiple comparison correction if needed (e.g., Bonferroni correction)\n",
    "adjusted_p_values = p_values * num_cues\n",
    "adjusted_p_values = np.minimum(adjusted_p_values, 1.0)  # Ensure p-values are <= 1\n",
    "\n",
    "\n",
    "results = pd.DataFrame(adjusted_p_values, columns=[f'Cue {i+1}' for i in range(num_cues)], \n",
    "                       index=[f'Emotion {i+1}' for i in range(num_emotions)])\n",
    "results\n"
   ]
  }
 ],
 "metadata": {
  "kernelspec": {
   "display_name": "Bert",
   "language": "python",
   "name": "python3"
  },
  "language_info": {
   "codemirror_mode": {
    "name": "ipython",
    "version": 3
   },
   "file_extension": ".py",
   "mimetype": "text/x-python",
   "name": "python",
   "nbconvert_exporter": "python",
   "pygments_lexer": "ipython3",
   "version": "3.12.1"
  }
 },
 "nbformat": 4,
 "nbformat_minor": 2
}
