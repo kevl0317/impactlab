{
 "cells": [
  {
   "cell_type": "code",
   "execution_count": 5,
   "metadata": {},
   "outputs": [
    {
     "name": "stdout",
     "output_type": "stream",
     "text": [
      "Original DataFrame:\n"
     ]
    },
    {
     "data": {
      "text/html": [
       "<div>\n",
       "<style scoped>\n",
       "    .dataframe tbody tr th:only-of-type {\n",
       "        vertical-align: middle;\n",
       "    }\n",
       "\n",
       "    .dataframe tbody tr th {\n",
       "        vertical-align: top;\n",
       "    }\n",
       "\n",
       "    .dataframe thead th {\n",
       "        text-align: right;\n",
       "    }\n",
       "</style>\n",
       "<table border=\"1\" class=\"dataframe\">\n",
       "  <thead>\n",
       "    <tr style=\"text-align: right;\">\n",
       "      <th></th>\n",
       "      <th>Product</th>\n",
       "      <th>Price</th>\n",
       "    </tr>\n",
       "  </thead>\n",
       "  <tbody>\n",
       "    <tr>\n",
       "      <th>0</th>\n",
       "      <td>A</td>\n",
       "      <td>$1,234.56</td>\n",
       "    </tr>\n",
       "    <tr>\n",
       "      <th>1</th>\n",
       "      <td>B</td>\n",
       "      <td>€2.345,67</td>\n",
       "    </tr>\n",
       "    <tr>\n",
       "      <th>2</th>\n",
       "      <td>C</td>\n",
       "      <td>£345.78</td>\n",
       "    </tr>\n",
       "  </tbody>\n",
       "</table>\n",
       "</div>"
      ],
      "text/plain": [
       "  Product      Price\n",
       "0       A  $1,234.56\n",
       "1       B  €2.345,67\n",
       "2       C    £345.78"
      ]
     },
     "execution_count": 5,
     "metadata": {},
     "output_type": "execute_result"
    }
   ],
   "source": [
    "def minmax(node, depth, maximizingPlayer):\n",
    "    if depth == 0 or is_terminal(node):\n",
    "        return evaluate(node)\n",
    "\n",
    "    if maximizingPlayer:\n",
    "        maxEval = -∞\n",
    "        for child in children(node):\n",
    "            eval = minmax(child, depth - 1, False)\n",
    "            maxEval = max(maxEval, eval)\n",
    "        return maxEval\n",
    "    else:\n",
    "        minEval = +∞\n",
    "        for child in children(node):\n",
    "            eval = minmax(child, depth - 1, True)\n",
    "            minEval = min(minEval, eval)\n",
    "        return minEval\n",
    "\n",
    "# Example use: best_move = minmax(current_state, depth, True)"
   ]
  },
  {
   "cell_type": "code",
   "execution_count": null,
   "metadata": {},
   "outputs": [],
   "source": [
    "def alpha_beta(node, depth, alpha, beta, maximizingPlayer):\n",
    "    if depth == 0 or is_terminal(node):\n",
    "        return evaluate(node)\n",
    "\n",
    "    if maximizingPlayer:\n",
    "        maxEval = -∞\n",
    "        for child in children(node):\n",
    "            eval = alpha_beta(child, depth - 1, alpha, beta, False)\n",
    "            maxEval = max(maxEval, eval)\n",
    "            alpha = max(alpha, eval)\n",
    "            if beta <= alpha:\n",
    "                break\n",
    "        return maxEval\n",
    "    else:\n",
    "        minEval = +∞\n",
    "        for child in children(node):\n",
    "            eval = alpha_beta(child, depth - 1, alpha, beta, True)\n",
    "            minEval = min(minEval, eval)\n",
    "            beta = min(beta, eval)\n",
    "            if beta <= alpha:\n",
    "                break\n",
    "        return minEval\n",
    "\n",
    "# Example use: best_move = alpha_beta(current_state, depth, -∞, +∞, True)"
   ]
  }
 ],
 "metadata": {
  "kernelspec": {
   "display_name": "impactlab",
   "language": "python",
   "name": "python3"
  },
  "language_info": {
   "codemirror_mode": {
    "name": "ipython",
    "version": 3
   },
   "file_extension": ".py",
   "mimetype": "text/x-python",
   "name": "python",
   "nbconvert_exporter": "python",
   "pygments_lexer": "ipython3",
   "version": "3.9.19"
  }
 },
 "nbformat": 4,
 "nbformat_minor": 2
}
